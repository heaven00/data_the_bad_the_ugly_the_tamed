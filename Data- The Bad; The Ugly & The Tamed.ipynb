{
 "cells": [
  {
   "cell_type": "markdown",
   "metadata": {
    "slideshow": {
     "slide_type": "slide"
    }
   },
   "source": [
    "# Data: The Bad; The Ugly & The Tamed"
   ]
  },
  {
   "cell_type": "markdown",
   "metadata": {
    "slideshow": {
     "slide_type": "slide"
    }
   },
   "source": [
    "# About me"
   ]
  },
  {
   "cell_type": "markdown",
   "metadata": {
    "slideshow": {
     "slide_type": "slide"
    }
   },
   "source": [
    "# Agenda\n",
    "\n",
    "- Why Data\n",
    "- what's Bad data\n",
    "- what's Ugly data\n",
    "- How can we tame it?"
   ]
  },
  {
   "cell_type": "markdown",
   "metadata": {
    "slideshow": {
     "slide_type": "slide"
    }
   },
   "source": [
    "# Why Data?\n",
    "\n",
    "Models are functions that\n",
    "- process\n",
    "- transform\n",
    "- generate\n",
    "\n",
    "# *Data*\n"
   ]
  },
  {
   "cell_type": "markdown",
   "metadata": {
    "slideshow": {
     "slide_type": "slide"
    }
   },
   "source": [
    "### \"Your Models are only as good as the data that goes into it.\"\n",
    "                                                                -someone"
   ]
  },
  {
   "cell_type": "markdown",
   "metadata": {
    "slideshow": {
     "slide_type": "slide"
    }
   },
   "source": [
    "# What does Bad Data looks like?\n",
    "\n",
    "#### what is good data? \n",
    "- machine readable format\n",
    "- know the source\n",
    "- know its attributes\n",
    "- you understand how the data behaves\n",
    "- usable etc."
   ]
  },
  {
   "cell_type": "markdown",
   "metadata": {
    "slideshow": {
     "slide_type": "slide"
    }
   },
   "source": [
    "## All data are bad. We just know some too well."
   ]
  },
  {
   "cell_type": "markdown",
   "metadata": {
    "slideshow": {
     "slide_type": "slide"
    }
   },
   "source": [
    "# When does it get Ugly?\n",
    "\n",
    "When we take bad data and use it to\n",
    "\n",
    "- process\n",
    "- transform\n",
    "- generate\n",
    "\n",
    "# *Data*"
   ]
  },
  {
   "cell_type": "markdown",
   "metadata": {
    "slideshow": {
     "slide_type": "slide"
    }
   },
   "source": [
    "# Taming Bad Data (Kaggle Style)\n",
    "\n",
    "- Understand how the data is being generated\n",
    "- Analyze\n",
    "- Pre Process\n",
    "- Create a model and Validate\n",
    "- Submit. Re-iterate"
   ]
  },
  {
   "cell_type": "markdown",
   "metadata": {
    "slideshow": {
     "slide_type": "slide"
    }
   },
   "source": [
    "# Taming Bad Data (Projects)\n",
    "\n",
    "- Data Analysis\n",
    "- Pre Process\n",
    "- Test it out\n",
    "- Store\n",
    "- Automate the whole process"
   ]
  },
  {
   "cell_type": "markdown",
   "metadata": {
    "slideshow": {
     "slide_type": "slide"
    }
   },
   "source": [
    "<img src=\"resources/minoin_pipeline.jpg\">\n",
    "image credits: generated using imgflip.com"
   ]
  },
  {
   "cell_type": "markdown",
   "metadata": {
    "slideshow": {
     "slide_type": "slide"
    }
   },
   "source": [
    "# Example\n",
    "<img src=\"resources/example_pipeline.png\">"
   ]
  },
  {
   "cell_type": "markdown",
   "metadata": {
    "slideshow": {
     "slide_type": "slide"
    }
   },
   "source": [
    "Add one more slide with 2 datasets"
   ]
  },
  {
   "cell_type": "markdown",
   "metadata": {
    "slideshow": {
     "slide_type": "slide"
    }
   },
   "source": [
    "# Sampling\n",
    "<img src=\"resources/sampling_datasets_example_base.png\">"
   ]
  },
  {
   "cell_type": "markdown",
   "metadata": {
    "slideshow": {
     "slide_type": "slide"
    }
   },
   "source": [
    "# Sampling\n",
    "<img src=\"resources/sampling_datasets_example_with_nans.png\">"
   ]
  },
  {
   "cell_type": "markdown",
   "metadata": {
    "slideshow": {
     "slide_type": "slide"
    }
   },
   "source": [
    "# Sampling\n",
    "<img src=\"resources/sampling_datasets_example_with_idvalue.png\">"
   ]
  },
  {
   "cell_type": "markdown",
   "metadata": {
    "slideshow": {
     "slide_type": "slide"
    }
   },
   "source": [
    "# Data Validation\n",
    "<img src=\"resources/data_validation_before_join.png\">"
   ]
  },
  {
   "cell_type": "markdown",
   "metadata": {
    "slideshow": {
     "slide_type": "slide"
    }
   },
   "source": [
    "# Data Validation\n",
    "\n",
    "What kind of Data validation can vary from case to case but a general checklist\n",
    "- Types of values\n",
    "- Categories\n",
    "- Sounds a lot like a rich schema?\n",
    "\n",
    "\n",
    "\n",
    "https://blog.acolyer.org/2019/06/05/data-validation-for-machine-learning/\n"
   ]
  },
  {
   "cell_type": "markdown",
   "metadata": {
    "slideshow": {
     "slide_type": "slide"
    }
   },
   "source": [
    "# Data Validation\n",
    "<img src=\"resources/data_validation_nan_example_2.png\">"
   ]
  },
  {
   "cell_type": "markdown",
   "metadata": {
    "slideshow": {
     "slide_type": "slide"
    }
   },
   "source": [
    "# Data Validation\n",
    "<img src=\"resources/data_validation_nan_solution.png\">"
   ]
  },
  {
   "cell_type": "markdown",
   "metadata": {
    "slideshow": {
     "slide_type": "slide"
    }
   },
   "source": [
    "# Data Validation\n",
    "\n",
    "Do it at both ends of the pipeline"
   ]
  },
  {
   "cell_type": "markdown",
   "metadata": {
    "slideshow": {
     "slide_type": "slide"
    }
   },
   "source": [
    "# Scheduled Data Pipeline\n",
    "<img src=\"resources/data_monitoring_stage.png\">"
   ]
  },
  {
   "cell_type": "markdown",
   "metadata": {
    "slideshow": {
     "slide_type": "slide"
    }
   },
   "source": [
    "# Is the Data in each Run Same?\n",
    "<img src=\"resources/data_monitoring_example.png\">"
   ]
  },
  {
   "cell_type": "markdown",
   "metadata": {
    "slideshow": {
     "slide_type": "slide"
    }
   },
   "source": [
    "# Data Monitoring\n",
    "\n",
    "Purpose and how you can do it"
   ]
  },
  {
   "cell_type": "markdown",
   "metadata": {
    "slideshow": {
     "slide_type": "slide"
    }
   },
   "source": [
    "# What Happens To the \"Joined Data\"\n",
    "<img src=\"resources/data_versioning.png\">\n",
    "image credits: https://xkcd.com/1838/"
   ]
  },
  {
   "cell_type": "markdown",
   "metadata": {
    "slideshow": {
     "slide_type": "slide"
    }
   },
   "source": [
    "# OR\n",
    "<img src=\"resources/data_versioning_II.png\">\n",
    "image credits: https://xkcd.com/1838/"
   ]
  },
  {
   "cell_type": "markdown",
   "metadata": {
    "slideshow": {
     "slide_type": "slide"
    }
   },
   "source": [
    "# OR\n",
    "<img src=\"resources/data_versioning_III.png\">\n",
    "image credits: https://xkcd.com/1838/"
   ]
  },
  {
   "cell_type": "markdown",
   "metadata": {
    "slideshow": {
     "slide_type": "slide"
    }
   },
   "source": [
    "# How do you ensure\n",
    "\n",
    "- Changes to a pipeline does not affect the pipelines below\n",
    "- Changes to a pipeline does not affect the model consuming it.\n",
    "- Or the Clients/Users consuming it."
   ]
  },
  {
   "cell_type": "markdown",
   "metadata": {
    "slideshow": {
     "slide_type": "slide"
    }
   },
   "source": [
    "# Data Versioning"
   ]
  },
  {
   "cell_type": "markdown",
   "metadata": {
    "slideshow": {
     "slide_type": "slide"
    }
   },
   "source": [
    "# Summary\n",
    "\n",
    "\n",
    "To build Data Intelligent systems, we need to treat data as a first class citizen and\n",
    "- *Data Validation*\n",
    "- *Data Monitoring*\n",
    "- *Data Versioning*\n",
    "\n",
    "are concepts in the right direction"
   ]
  }
 ],
 "metadata": {
  "celltoolbar": "Slideshow",
  "kernelspec": {
   "display_name": "Python 3",
   "language": "python",
   "name": "python3"
  },
  "language_info": {
   "codemirror_mode": {
    "name": "ipython",
    "version": 3
   },
   "file_extension": ".py",
   "mimetype": "text/x-python",
   "name": "python",
   "nbconvert_exporter": "python",
   "pygments_lexer": "ipython3",
   "version": "3.8.1"
  }
 },
 "nbformat": 4,
 "nbformat_minor": 4
}

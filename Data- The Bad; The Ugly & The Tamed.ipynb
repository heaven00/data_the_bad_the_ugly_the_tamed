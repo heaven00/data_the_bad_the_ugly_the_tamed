{
 "cells": [
  {
   "cell_type": "markdown",
   "metadata": {
    "slideshow": {
     "slide_type": "slide"
    }
   },
   "source": [
    "# Data: The Bad; The Ugly & The Tamed"
   ]
  },
  {
   "cell_type": "markdown",
   "metadata": {
    "slideshow": {
     "slide_type": "slide"
    }
   },
   "source": [
    "# About me"
   ]
  },
  {
   "cell_type": "markdown",
   "metadata": {
    "slideshow": {
     "slide_type": "slide"
    }
   },
   "source": [
    "# What this talk is not about\n",
    "\n",
    "- Machine Learning models\n",
    "- Data Science Projects\n",
    "- A new technique or new product in the space\n",
    "\n",
    "# Its just about the \"Data\""
   ]
  },
  {
   "cell_type": "markdown",
   "metadata": {
    "slideshow": {
     "slide_type": "slide"
    }
   },
   "source": [
    "# Why Data?\n",
    "\n",
    "Models are functions that\n",
    "- process\n",
    "- transform\n",
    "- generate\n",
    "\n",
    "# *Data*\n"
   ]
  },
  {
   "cell_type": "markdown",
   "metadata": {
    "slideshow": {
     "slide_type": "slide"
    }
   },
   "source": [
    "### \"Your Models are only as good as the data that goes into it.\"\n",
    "                                                                -someone"
   ]
  },
  {
   "cell_type": "markdown",
   "metadata": {
    "slideshow": {
     "slide_type": "slide"
    }
   },
   "source": [
    "# What does Bad Data looks like?\n",
    "\n",
    "#### what is good data? \n",
    "- machine readable format\n",
    "- know the source\n",
    "- know its attributes\n",
    "- you understand how the data behaves\n",
    "- usable"
   ]
  },
  {
   "cell_type": "markdown",
   "metadata": {
    "slideshow": {
     "slide_type": "slide"
    }
   },
   "source": [
    "## All data are bad. You just know some too well."
   ]
  },
  {
   "cell_type": "markdown",
   "metadata": {
    "slideshow": {
     "slide_type": "slide"
    }
   },
   "source": [
    "# When does it get Ugly?\n",
    "\n",
    "When we take bad data and use it to\n",
    "\n",
    "- process\n",
    "- transform\n",
    "- generate\n",
    "\n",
    "# *Data*"
   ]
  },
  {
   "cell_type": "markdown",
   "metadata": {
    "slideshow": {
     "slide_type": "slide"
    }
   },
   "source": [
    "# The Tamed data\n",
    "\n"
   ]
  },
  {
   "cell_type": "markdown",
   "metadata": {
    "slideshow": {
     "slide_type": "slide"
    }
   },
   "source": [
    "# what should tamed data look like?\n",
    "\n",
    "It should not be bad.\n",
    "\n",
    ">    - machine readable format\n",
    ">    - know the source\n",
    ">    - know its attributes\n",
    ">    - you understand how the data behaves\n",
    ">    - usable\n"
   ]
  },
  {
   "cell_type": "markdown",
   "metadata": {
    "slideshow": {
     "slide_type": "slide"
    }
   },
   "source": [
    "# Machine Readable Format\n",
    "\n",
    "Different Types of data I have worked with\n",
    "- Tabular (CSV, Databases - SQL, NOSQL)\n",
    "- Geospatial\n",
    "- Images\n",
    "- Text\n",
    "- PDFs\n",
    "- APIs"
   ]
  },
  {
   "cell_type": "markdown",
   "metadata": {
    "slideshow": {
     "slide_type": "slide"
    }
   },
   "source": [
    "# Making the data Usable\n",
    "\n",
    "- Data analysis\n",
    "- Processing pipelines\n",
    "- Handling outliers\n",
    "- Handling NaNs\n",
    "- Storage\n",
    "etc."
   ]
  },
  {
   "cell_type": "markdown",
   "metadata": {
    "slideshow": {
     "slide_type": "slide"
    }
   },
   "source": [
    "# Whats the problem?\n",
    "\n",
    "How do we make sure\n",
    "- the data is always in usable format?\n",
    "- the source of the data is still active and valid?\n",
    "- the data is balanced?\n",
    "- the data after the processing pipeline is usable or not?\n"
   ]
  },
  {
   "cell_type": "markdown",
   "metadata": {
    "slideshow": {
     "slide_type": "slide"
    }
   },
   "source": [
    "## These questions change with different problem statements and there is no single solution."
   ]
  },
  {
   "cell_type": "code",
   "execution_count": null,
   "metadata": {},
   "outputs": [],
   "source": []
  }
 ],
 "metadata": {
  "celltoolbar": "Slideshow",
  "kernelspec": {
   "display_name": "Python 3",
   "language": "python",
   "name": "python3"
  },
  "language_info": {
   "codemirror_mode": {
    "name": "ipython",
    "version": 3
   },
   "file_extension": ".py",
   "mimetype": "text/x-python",
   "name": "python",
   "nbconvert_exporter": "python",
   "pygments_lexer": "ipython3",
   "version": "3.8.1"
  }
 },
 "nbformat": 4,
 "nbformat_minor": 4
}

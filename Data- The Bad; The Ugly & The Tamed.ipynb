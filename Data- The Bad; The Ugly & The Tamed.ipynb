{
 "cells": [
  {
   "cell_type": "markdown",
   "metadata": {
    "slideshow": {
     "slide_type": "slide"
    }
   },
   "source": [
    "# Data: The Bad; The Ugly & The Tamed"
   ]
  },
  {
   "cell_type": "markdown",
   "metadata": {
    "slideshow": {
     "slide_type": "slide"
    }
   },
   "source": [
    "# About me"
   ]
  },
  {
   "cell_type": "markdown",
   "metadata": {
    "slideshow": {
     "slide_type": "slide"
    }
   },
   "source": [
    "# What this talk is not about\n",
    "\n",
    "- Machine Learning models\n",
    "- Data Science Projects\n",
    "- A new technique or new product in the space\n",
    "\n",
    "# Its just about the \"Data\""
   ]
  },
  {
   "cell_type": "markdown",
   "metadata": {
    "slideshow": {
     "slide_type": "slide"
    }
   },
   "source": [
    "# Why Data?\n",
    "\n",
    "Models are functions that\n",
    "- process\n",
    "- transform\n",
    "- generate\n",
    "\n",
    "# *Data*\n"
   ]
  },
  {
   "cell_type": "markdown",
   "metadata": {
    "slideshow": {
     "slide_type": "slide"
    }
   },
   "source": [
    "### \"Your Models are only as good as the data that goes into it.\"\n",
    "                                                                -someone"
   ]
  },
  {
   "cell_type": "markdown",
   "metadata": {
    "slideshow": {
     "slide_type": "slide"
    }
   },
   "source": [
    "# What does Bad Data looks like?\n",
    "\n",
    "#### what is good data? \n",
    "- machine readable format\n",
    "- know the source\n",
    "- know its attributes\n",
    "- you understand how the data behaves\n",
    "- usable"
   ]
  },
  {
   "cell_type": "markdown",
   "metadata": {
    "slideshow": {
     "slide_type": "slide"
    }
   },
   "source": [
    "## All data are bad. You just know some too well."
   ]
  },
  {
   "cell_type": "markdown",
   "metadata": {
    "slideshow": {
     "slide_type": "slide"
    }
   },
   "source": [
    "# When does it get Ugly?\n",
    "\n",
    "When we take bad data and use it to\n",
    "\n",
    "- process\n",
    "- transform\n",
    "- generate\n",
    "\n",
    "# *Data*"
   ]
  },
  {
   "cell_type": "markdown",
   "metadata": {
    "slideshow": {
     "slide_type": "slide"
    }
   },
   "source": [
    "# what should tamed data look like?\n",
    "\n",
    "It should not be bad.\n",
    "\n",
    ">    - machine readable format\n",
    ">    - know the source\n",
    ">    - know its attributes\n",
    ">    - you understand how the data behaves\n",
    ">    - usable\n"
   ]
  },
  {
   "cell_type": "markdown",
   "metadata": {
    "slideshow": {
     "slide_type": "slide"
    }
   },
   "source": [
    "# How to tame the Data?\n",
    "\n",
    "- Data analysis\n",
    "- Processing pipelines\n",
    "- Handling outliers\n",
    "- Handling NaNs\n",
    "- Storage\n",
    "etc.\n"
   ]
  },
  {
   "cell_type": "markdown",
   "metadata": {
    "slideshow": {
     "slide_type": "slide"
    }
   },
   "source": [
    "# Whats the problem?\n",
    "\n",
    "- Data Comes in different shapes and sizes\n",
    "- Each type has its own processing requirements\n",
    "- And processing changes with problem statements\n",
    "- Scale\n",
    "\n",
    "And \n"
   ]
  },
  {
   "cell_type": "markdown",
   "metadata": {
    "slideshow": {
     "slide_type": "slide"
    }
   },
   "source": [
    "# Taming is a continous process"
   ]
  },
  {
   "cell_type": "markdown",
   "metadata": {
    "slideshow": {
     "slide_type": "slide"
    }
   },
   "source": [
    "# The Software world\n",
    "\n",
    "Code is always changing, how do we handle it?\n",
    "- we test code\n",
    "- we version it\n",
    "- we have continous integration of code\n",
    "- we have standards for what a good code should look like or *smell* like."
   ]
  },
  {
   "cell_type": "code",
   "execution_count": null,
   "metadata": {
    "slideshow": {
     "slide_type": "slide"
    }
   },
   "outputs": [],
   "source": []
  }
 ],
 "metadata": {
  "celltoolbar": "Slideshow",
  "kernelspec": {
   "display_name": "Python 3",
   "language": "python",
   "name": "python3"
  },
  "language_info": {
   "codemirror_mode": {
    "name": "ipython",
    "version": 3
   },
   "file_extension": ".py",
   "mimetype": "text/x-python",
   "name": "python",
   "nbconvert_exporter": "python",
   "pygments_lexer": "ipython3",
   "version": "3.8.1"
  }
 },
 "nbformat": 4,
 "nbformat_minor": 4
}

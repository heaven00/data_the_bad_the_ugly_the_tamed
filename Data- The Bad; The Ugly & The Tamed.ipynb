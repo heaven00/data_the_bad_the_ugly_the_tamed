{
 "cells": [
  {
   "cell_type": "markdown",
   "metadata": {
    "slideshow": {
     "slide_type": "slide"
    }
   },
   "source": [
    "# Data: The Bad; The Ugly & The Tamed"
   ]
  },
  {
   "cell_type": "markdown",
   "metadata": {
    "slideshow": {
     "slide_type": "slide"
    }
   },
   "source": [
    "# About me"
   ]
  },
  {
   "cell_type": "markdown",
   "metadata": {
    "slideshow": {
     "slide_type": "slide"
    }
   },
   "source": [
    "# Agenda\n",
    "\n",
    "- Why Data\n",
    "- what's Bad data\n",
    "- what's Ugly data\n",
    "- How can we tame it?"
   ]
  },
  {
   "cell_type": "markdown",
   "metadata": {
    "slideshow": {
     "slide_type": "slide"
    }
   },
   "source": [
    "# Why Data?\n",
    "\n",
    "Models are functions that\n",
    "- process\n",
    "- transform\n",
    "- generate\n",
    "\n",
    "# *Data*\n"
   ]
  },
  {
   "cell_type": "markdown",
   "metadata": {
    "slideshow": {
     "slide_type": "slide"
    }
   },
   "source": [
    "### \"Your Models are only as good as the data that goes into it.\"\n",
    "                                                                -someone"
   ]
  },
  {
   "cell_type": "markdown",
   "metadata": {
    "slideshow": {
     "slide_type": "slide"
    }
   },
   "source": [
    "# What does Bad Data looks like?\n",
    "\n",
    "#### what is good data? \n",
    "- machine readable format\n",
    "- know the source\n",
    "- know its attributes\n",
    "- you understand how the data behaves\n",
    "- usable etc."
   ]
  },
  {
   "cell_type": "markdown",
   "metadata": {
    "slideshow": {
     "slide_type": "slide"
    }
   },
   "source": [
    "## All data are bad. You just know some too well."
   ]
  },
  {
   "cell_type": "markdown",
   "metadata": {
    "slideshow": {
     "slide_type": "slide"
    }
   },
   "source": [
    "# When does it get Ugly?\n",
    "\n",
    "When we take bad data and use it to\n",
    "\n",
    "- process\n",
    "- transform\n",
    "- generate\n",
    "\n",
    "# *Data*"
   ]
  },
  {
   "cell_type": "markdown",
   "metadata": {
    "slideshow": {
     "slide_type": "slide"
    }
   },
   "source": [
    "# Taming Bad Data (Kaggle Style)\n",
    "\n",
    "- Understand how the data is being generated\n",
    "- Analyze\n",
    "- Pre Process\n",
    "- Create a model and Validate\n",
    "- Submit. Re-iterate"
   ]
  },
  {
   "cell_type": "markdown",
   "metadata": {
    "slideshow": {
     "slide_type": "slide"
    }
   },
   "source": [
    "# Taming Bad Data (Projects)\n",
    "\n",
    "- Data Analysis\n",
    "- Pre Process\n",
    "- Test it out\n",
    "- Store\n",
    "- Automate the whole process"
   ]
  },
  {
   "cell_type": "markdown",
   "metadata": {
    "slideshow": {
     "slide_type": "slide"
    }
   },
   "source": [
    "<img src=\"resources/minoin_pipeline.jpg\">"
   ]
  },
  {
   "cell_type": "markdown",
   "metadata": {
    "slideshow": {
     "slide_type": "slide"
    }
   },
   "source": [
    "# What can go wrong\n",
    "<img src=\"resources/pipeline.png\">"
   ]
  },
  {
   "cell_type": "markdown",
   "metadata": {
    "slideshow": {
     "slide_type": "slide"
    }
   },
   "source": []
  },
  {
   "cell_type": "markdown",
   "metadata": {
    "slideshow": {
     "slide_type": "slide"
    }
   },
   "source": [
    "# Possible loose ends\n",
    "\n",
    "- Code Tests in the pipeline (basic engineering practice)\n",
    "- What about the data coming in?\n",
    "- What about the data being generated?"
   ]
  },
  {
   "cell_type": "markdown",
   "metadata": {
    "slideshow": {
     "slide_type": "slide"
    }
   },
   "source": [
    "# what should tamed data look like?\n",
    "\n",
    "It should not be bad.\n",
    "\n",
    ">    - machine readable format\n",
    ">    - know the source\n",
    ">    - know its attributes\n",
    ">    - you understand how the data behaves\n",
    ">    - usable\n"
   ]
  },
  {
   "cell_type": "markdown",
   "metadata": {
    "slideshow": {
     "slide_type": "slide"
    }
   },
   "source": [
    "# Whats the problem?\n",
    "\n",
    "- Data Comes in different shapes and sizes\n",
    "- Each type has its own processing requirements\n",
    "- And processing changes with problem statements\n",
    "- Scale\n",
    "\n",
    "And \n"
   ]
  },
  {
   "cell_type": "markdown",
   "metadata": {
    "slideshow": {
     "slide_type": "slide"
    }
   },
   "source": [
    "# Taming is a continous process"
   ]
  },
  {
   "cell_type": "markdown",
   "metadata": {
    "slideshow": {
     "slide_type": "slide"
    }
   },
   "source": [
    "# Data Versioning"
   ]
  },
  {
   "cell_type": "markdown",
   "metadata": {
    "slideshow": {
     "slide_type": "slide"
    }
   },
   "source": [
    "# Data Testing"
   ]
  },
  {
   "cell_type": "markdown",
   "metadata": {
    "slideshow": {
     "slide_type": "slide"
    }
   },
   "source": [
    "# Data Validation "
   ]
  },
  {
   "cell_type": "code",
   "execution_count": null,
   "metadata": {},
   "outputs": [],
   "source": []
  }
 ],
 "metadata": {
  "celltoolbar": "Slideshow",
  "kernelspec": {
   "display_name": "Python 3",
   "language": "python",
   "name": "python3"
  },
  "language_info": {
   "codemirror_mode": {
    "name": "ipython",
    "version": 3
   },
   "file_extension": ".py",
   "mimetype": "text/x-python",
   "name": "python",
   "nbconvert_exporter": "python",
   "pygments_lexer": "ipython3",
   "version": "3.8.1"
  }
 },
 "nbformat": 4,
 "nbformat_minor": 4
}
